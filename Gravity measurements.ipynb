{
 "cells": [
  {
   "cell_type": "code",
   "execution_count": 1,
   "id": "ac5beef0",
   "metadata": {},
   "outputs": [],
   "source": [
    "# Pendulum\n",
    "mu1 = 3.5\n",
    "sig1 = 0.5\n",
    "mu2 = 3\n",
    "sig2 = 0.1\n"
   ]
  },
  {
   "cell_type": "code",
   "execution_count": 2,
   "id": "9a28f592",
   "metadata": {},
   "outputs": [],
   "source": [
    "from sympy import * \n",
    "from IPython.core.display import Latex\n",
    "\n",
    "def lprint(*args,**kwargs):\n",
    "    \"\"\"Pretty print arguments as LaTeX using IPython display system \n",
    "    \n",
    "    Parameters\n",
    "    ----------\n",
    "    args : tuple \n",
    "        What to print (in LaTeX math mode)\n",
    "    kwargs : dict \n",
    "        optional keywords to pass to `display` \n",
    "    \"\"\"\n",
    "    display(Latex('$$'+' '.join(args)+'$$'),**kwargs)\n"
   ]
  },
  {
   "cell_type": "code",
   "execution_count": 3,
   "id": "ec370141",
   "metadata": {},
   "outputs": [
    {
     "data": {
      "text/latex": [
       "$$G = \\frac{4 \\pi^{2} L}{T^{2}}$$"
      ],
      "text/plain": [
       "<IPython.core.display.Latex object>"
      ]
     },
     "metadata": {},
     "output_type": "display_data"
    },
    {
     "data": {
      "text/latex": [
       "$$\\sigma_{G} = \\sqrt{\\frac{64 \\pi^{4} L^{2} \\sigma_{T}^{2}}{T^{6}} + \\frac{16 \\pi^{4} \\sigma_{L}^{2}}{T^{4}}}$$"
      ],
      "text/plain": [
       "<IPython.core.display.Latex object>"
      ]
     },
     "metadata": {},
     "output_type": "display_data"
    },
    {
     "data": {
      "text/latex": [
       "$$G = (15.4 \\pm 2.4)\\,\\mathrm{m}$$"
      ],
      "text/plain": [
       "<IPython.core.display.Latex object>"
      ]
     },
     "metadata": {},
     "output_type": "display_data"
    }
   ],
   "source": [
    "\n",
    "# Define variables:\n",
    "L,T = symbols(\"L, T\")\n",
    "dL,dT = symbols(\"sigma_L, sigma_T\")\n",
    "\n",
    "# Perimeter:\n",
    "# Define relation, and print:\n",
    "G = L*(2*pi/T)**2\n",
    "lprint(latex(Eq(symbols('G'),G)))\n",
    "\n",
    "# Calculate uncertainty and print:\n",
    "dG = sqrt((G.diff(L) * dL)**2 + (G.diff(T) * dT)**2)\n",
    "lprint(latex(Eq(symbols('sigma_G'), dG)))\n",
    "\n",
    "# Turn expression into numerical functions \n",
    "fG = lambdify((L,T),G)\n",
    "fdG = lambdify((L,dL,T,dT),dG)\n",
    "\n",
    "# Define values and their errors\n",
    "vL, vdL = mu1,sig1\n",
    "vT, vdT = mu2,sig2\n",
    "\n",
    "# Numerically evaluate expressions and print \n",
    "vG = fG(vL,vT)\n",
    "vdG = fdG(vL,vdL,vT,vdT)\n",
    "lprint(fr'G = ({vG:.1f} \\pm {vdG:.1f})\\,\\mathrm{{m}}')"
   ]
  },
  {
   "cell_type": "code",
   "execution_count": null,
   "id": "095bf793",
   "metadata": {},
   "outputs": [],
   "source": []
  },
  {
   "cell_type": "code",
   "execution_count": null,
   "id": "887c6d05",
   "metadata": {},
   "outputs": [],
   "source": []
  }
 ],
 "metadata": {
  "kernelspec": {
   "display_name": "Python 3.10.6 64-bit",
   "language": "python",
   "name": "python3"
  },
  "language_info": {
   "codemirror_mode": {
    "name": "ipython",
    "version": 3
   },
   "file_extension": ".py",
   "mimetype": "text/x-python",
   "name": "python",
   "nbconvert_exporter": "python",
   "pygments_lexer": "ipython3",
   "version": "3.10.6"
  },
  "vscode": {
   "interpreter": {
    "hash": "916dbcbb3f70747c44a77c7bcd40155683ae19c65e1c03b4aa3499c5328201f1"
   }
  }
 },
 "nbformat": 4,
 "nbformat_minor": 5
}
